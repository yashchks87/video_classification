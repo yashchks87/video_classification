{
 "cells": [
  {
   "cell_type": "code",
   "execution_count": 1,
   "metadata": {},
   "outputs": [],
   "source": [
    "import numpy as np\n",
    "import pandas as pd\n",
    "import sys\n",
    "import os\n",
    "import glob\n",
    "import cv2\n",
    "from tqdm import tqdm"
   ]
  },
  {
   "cell_type": "code",
   "execution_count": 17,
   "metadata": {},
   "outputs": [],
   "source": [
    "video_files_train = glob.glob('../../kinetics-dataset/k400/train/*.mp4')"
   ]
  },
  {
   "cell_type": "code",
   "execution_count": 37,
   "metadata": {},
   "outputs": [
    {
     "name": "stdout",
     "output_type": "stream",
     "text": [
      "../../kinetics-dataset/k400/train/_imKC-gBF-I_000164_000174.mp4\n",
      "../../kinetics-dataset/k400/train/_Uw5azl9Bwg_000010_000020.mp4\n",
      "../../kinetics-dataset/k400/train/_nBywBbELWA_000016_000026.mp4\n",
      "../../kinetics-dataset/k400/train/_555H6P8IAY_000523_000533.mp4\n",
      "../../kinetics-dataset/k400/train/_3-RIujVltk_000651_000661.mp4\n"
     ]
    }
   ],
   "source": [
    "count = 0\n",
    "for x in video_files_train:\n",
    "    if x.split('/')[-1].split('.')[0][0] == '_':\n",
    "        print(x)\n",
    "        count += 1\n",
    "        if count == 5:\n",
    "            break"
   ]
  },
  {
   "cell_type": "code",
   "execution_count": null,
   "metadata": {},
   "outputs": [],
   "source": []
  },
  {
   "cell_type": "code",
   "execution_count": null,
   "metadata": {},
   "outputs": [],
   "source": []
  },
  {
   "cell_type": "code",
   "execution_count": null,
   "metadata": {},
   "outputs": [],
   "source": []
  },
  {
   "cell_type": "code",
   "execution_count": null,
   "metadata": {},
   "outputs": [],
   "source": []
  },
  {
   "cell_type": "code",
   "execution_count": null,
   "metadata": {},
   "outputs": [],
   "source": []
  },
  {
   "cell_type": "code",
   "execution_count": 14,
   "metadata": {},
   "outputs": [
    {
     "data": {
      "text/plain": [
       "'fE7oW_Xu2kE'"
      ]
     },
     "execution_count": 14,
     "metadata": {},
     "output_type": "execute_result"
    }
   ],
   "source": [
    "'_'.join(video_files_train[0].split('/')[-1].split('.')[0].split('_')[:2])"
   ]
  },
  {
   "cell_type": "code",
   "execution_count": 73,
   "metadata": {},
   "outputs": [],
   "source": [
    "def extract_in_sequence(data):\n",
    "    video_path, path = data[0], data[1]\n",
    "    # TODO: If it fails as the value does not meet minimum frames criteria, then just produce 20 frames in sequence.\n",
    "    cap = cv2.VideoCapture(video_path)\n",
    "    # frame_holder = np.zeros((20, 128, 128, 3))\n",
    "    count = 0\n",
    "    while cap.isOpened():\n",
    "        ret, frame = cap.read()\n",
    "        if ret and count < 20:\n",
    "            frame = cv2.resize(frame, (128, 128))\n",
    "            cv2.imwrite(f'{path}{count}.jpg', frame)\n",
    "            # frame_holder[count] = frame\n",
    "            count += 1\n",
    "        else:\n",
    "            break\n",
    "    cap.release()"
   ]
  },
  {
   "cell_type": "code",
   "execution_count": 74,
   "metadata": {},
   "outputs": [],
   "source": [
    "def extract_in_probs(data):\n",
    "    video_path, path = data\n",
    "    # TODO: Generate probability of values and get those specific frames only.\n",
    "    # random_selector = np.random.randint(20, 60, 20)\n",
    "    x1, x2 = 20, 60\n",
    "    random_selector = np.arange(x1, x2, (x2-x1)/20).astype(int)\n",
    "    cap = cv2.VideoCapture(video_path)\n",
    "    frame_holder = np.zeros((20, 128, 128, 3))\n",
    "    frame_number = []\n",
    "    count, valid_selector = 0, 0\n",
    "    while cap.isOpened():\n",
    "        ret, frame = cap.read()\n",
    "        if ret:\n",
    "            if count in random_selector:\n",
    "                frame = cv2.resize(frame, (128, 128))\n",
    "                frame_number.append(count)\n",
    "                frame_holder[valid_selector] = frame\n",
    "                valid_selector += 1\n",
    "            count += 1\n",
    "        else:\n",
    "            break\n",
    "    cap.release()\n",
    "    if valid_selector < 19:\n",
    "        extract_in_sequence([video_path, path])\n",
    "    else:\n",
    "        for x in range(20):\n",
    "            cv2.imwrite(f'{path}{frame_number[x]}.jpg', frame_holder[x])"
   ]
  },
  {
   "cell_type": "code",
   "execution_count": 75,
   "metadata": {},
   "outputs": [],
   "source": [
    "def extract_frames(data):\n",
    "    try:\n",
    "        video_path, target_dir = data[0], data[1]\n",
    "        cap = cv2.VideoCapture(video_path)\n",
    "        if cap.isOpened() == False:\n",
    "            return f'Video is not opened: {video_path}'\n",
    "        else:\n",
    "            del cap\n",
    "            file_name = '_'.join(video_path.split('/')[-1].split('.')[0].split('_')[:-2])\n",
    "            target_name = target_dir + file_name + '/'\n",
    "            # print(target_name)\n",
    "            if os.path.exists(target_name) == False:\n",
    "                os.makedirs(target_name)\n",
    "            extract_in_probs([video_path, target_name])\n",
    "    except:\n",
    "        return f'Error: {data[0]}'"
   ]
  },
  {
   "cell_type": "code",
   "execution_count": 77,
   "metadata": {},
   "outputs": [],
   "source": [
    "# extract_frames([video_files_train[0], '../../kinetics_frames_all/'])\n",
    "for x in range(2):\n",
    "    extract_frames([video_files_train[x], '../../kinetics_frames_all/'])"
   ]
  },
  {
   "cell_type": "code",
   "execution_count": null,
   "metadata": {},
   "outputs": [],
   "source": []
  }
 ],
 "metadata": {
  "kernelspec": {
   "display_name": "video_env",
   "language": "python",
   "name": "python3"
  },
  "language_info": {
   "codemirror_mode": {
    "name": "ipython",
    "version": 3
   },
   "file_extension": ".py",
   "mimetype": "text/x-python",
   "name": "python",
   "nbconvert_exporter": "python",
   "pygments_lexer": "ipython3",
   "version": "3.11.7"
  }
 },
 "nbformat": 4,
 "nbformat_minor": 2
}
