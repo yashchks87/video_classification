{
 "cells": [
  {
   "cell_type": "code",
   "execution_count": 1,
   "metadata": {},
   "outputs": [],
   "source": [
    "# import zipfile\n",
    "\n",
    "# def create_zip(file_paths, zip_name):\n",
    "#     with zipfile.ZipFile(zip_name, 'w') as zipf:\n",
    "#         for file in file_paths:\n",
    "#             zipf.write(file)\n",
    "\n",
    "# # Example usage\n",
    "# file_paths = ['file1.txt', 'file2.txt', 'file3.txt']\n",
    "# zip_name = 'my_archive.zip'\n",
    "# create_zip(file_paths, zip_name)\n"
   ]
  },
  {
   "cell_type": "code",
   "execution_count": 32,
   "metadata": {},
   "outputs": [],
   "source": [
    "import pandas as pd\n",
    "import os\n",
    "import zipfile\n",
    "import glob"
   ]
  },
  {
   "cell_type": "code",
   "execution_count": 4,
   "metadata": {},
   "outputs": [],
   "source": [
    "train_csv = pd.read_csv('./train.csv')\n",
    "train_csv['paths'] = train_csv['youtube_id'].apply(lambda x: '../../kinetics_frames/' + x + '/')"
   ]
  },
  {
   "cell_type": "code",
   "execution_count": 8,
   "metadata": {},
   "outputs": [],
   "source": [
    "train_csv['is_path_exists'] = train_csv['paths'].apply(lambda x: os.path.exists(x))"
   ]
  },
  {
   "cell_type": "code",
   "execution_count": 10,
   "metadata": {},
   "outputs": [],
   "source": [
    "train_csv = train_csv[train_csv['is_path_exists'] == True]"
   ]
  },
  {
   "cell_type": "code",
   "execution_count": 21,
   "metadata": {},
   "outputs": [],
   "source": [
    "max_label = train_csv['label'].value_counts().keys()[:2]"
   ]
  },
  {
   "cell_type": "code",
   "execution_count": 22,
   "metadata": {},
   "outputs": [],
   "source": [
    "train_csv = train_csv[train_csv['label'].isin(max_label)]"
   ]
  },
  {
   "cell_type": "code",
   "execution_count": 25,
   "metadata": {},
   "outputs": [],
   "source": [
    "def create_zip(file_paths, zip_name):\n",
    "    with zipfile.ZipFile(zip_name, 'w') as zipf:\n",
    "        for file in file_paths:\n",
    "            zipf.write(file)"
   ]
  },
  {
   "cell_type": "code",
   "execution_count": 35,
   "metadata": {},
   "outputs": [],
   "source": [
    "file_paths = train_csv['paths'].values\n",
    "# file_paths = [glob.glob(f'{x} + *.jpg') for x in file_paths]\n",
    "# zip_name = 'my_archive.zip'\n",
    "# create_zip(file_paths, zip_name)"
   ]
  },
  {
   "cell_type": "code",
   "execution_count": 47,
   "metadata": {},
   "outputs": [
    {
     "name": "stdout",
     "output_type": "stream",
     "text": [
      "['../../kinetics_frames/-4GpJEw9uXs/frame_44.jpg', '../../kinetics_frames/-4GpJEw9uXs/frame_68.jpg', '../../kinetics_frames/-4GpJEw9uXs/frame_36.jpg', '../../kinetics_frames/-4GpJEw9uXs/frame_40.jpg', '../../kinetics_frames/-4GpJEw9uXs/frame_80.jpg', '../../kinetics_frames/-4GpJEw9uXs/frame_76.jpg', '../../kinetics_frames/-4GpJEw9uXs/frame_28.jpg', '../../kinetics_frames/-4GpJEw9uXs/frame_88.jpg', '../../kinetics_frames/-4GpJEw9uXs/frame_72.jpg', '../../kinetics_frames/-4GpJEw9uXs/frame_24.jpg', '../../kinetics_frames/-4GpJEw9uXs/frame_52.jpg', '../../kinetics_frames/-4GpJEw9uXs/frame_84.jpg', '../../kinetics_frames/-4GpJEw9uXs/frame_60.jpg', '../../kinetics_frames/-4GpJEw9uXs/frame_32.jpg', '../../kinetics_frames/-4GpJEw9uXs/frame_48.jpg', '../../kinetics_frames/-4GpJEw9uXs/frame_92.jpg', '../../kinetics_frames/-4GpJEw9uXs/frame_20.jpg', '../../kinetics_frames/-4GpJEw9uXs/frame_56.jpg', '../../kinetics_frames/-4GpJEw9uXs/frame_64.jpg', '../../kinetics_frames/-4GpJEw9uXs/frame_96.jpg']\n"
     ]
    }
   ],
   "source": [
    "list_of_files = []\n",
    "for x in file_paths:\n",
    "    # print(f'{x} *.jpg')\n",
    "    paths = glob.glob(f'{x}*.jpg')\n",
    "    print(paths)\n",
    "    break"
   ]
  },
  {
   "cell_type": "code",
   "execution_count": null,
   "metadata": {},
   "outputs": [],
   "source": []
  },
  {
   "cell_type": "code",
   "execution_count": null,
   "metadata": {},
   "outputs": [],
   "source": []
  }
 ],
 "metadata": {
  "kernelspec": {
   "display_name": "Python 3",
   "language": "python",
   "name": "python3"
  },
  "language_info": {
   "codemirror_mode": {
    "name": "ipython",
    "version": 3
   },
   "file_extension": ".py",
   "mimetype": "text/x-python",
   "name": "python",
   "nbconvert_exporter": "python",
   "pygments_lexer": "ipython3",
   "version": "3.11.7"
  }
 },
 "nbformat": 4,
 "nbformat_minor": 2
}
